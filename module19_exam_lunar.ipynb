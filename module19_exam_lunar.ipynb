{
  "nbformat": 4,
  "nbformat_minor": 0,
  "metadata": {
    "colab": {
      "provenance": [],
      "mount_file_id": "12CTgye3n2rZi8rda3idQkuvwzKibxyQ4",
      "authorship_tag": "ABX9TyPiPs2YqGb4cvpol7WAV34R",
      "include_colab_link": true
    },
    "kernelspec": {
      "name": "python3",
      "display_name": "Python 3"
    },
    "language_info": {
      "name": "python"
    }
  },
  "cells": [
    {
      "cell_type": "markdown",
      "metadata": {
        "id": "view-in-github",
        "colab_type": "text"
      },
      "source": [
        "<a href=\"https://colab.research.google.com/github/minibrixie/module19_exam_lunar/blob/main/module19_exam_lunar.ipynb\" target=\"_parent\"><img src=\"https://colab.research.google.com/assets/colab-badge.svg\" alt=\"Open In Colab\"/></a>"
      ]
    },
    {
      "cell_type": "code",
      "execution_count": 1,
      "metadata": {
        "colab": {
          "base_uri": "https://localhost:8080/"
        },
        "id": "cVNxZR7JM61A",
        "outputId": "deecd3a0-fab7-41a9-b7c5-6e5cd59c4f0b"
      },
      "outputs": [
        {
          "output_type": "stream",
          "name": "stdout",
          "text": [
            "Mounted at /content/drive\n"
          ]
        }
      ],
      "source": [
        "from google.colab import drive\n",
        "drive.mount('/content/drive')"
      ]
    },
    {
      "cell_type": "code",
      "source": [
        "import pandas as pd"
      ],
      "metadata": {
        "id": "hFaRpgAzNMpP"
      },
      "execution_count": 2,
      "outputs": []
    },
    {
      "cell_type": "code",
      "source": [
        "filename = '/content/drive/MyDrive/Lunar_Activity/titanic.csv'\n",
        "df = pd.read_csv(filename)"
      ],
      "metadata": {
        "id": "4FKvc6ucNQ6w"
      },
      "execution_count": 3,
      "outputs": []
    },
    {
      "cell_type": "code",
      "source": [
        "print(df.head())"
      ],
      "metadata": {
        "colab": {
          "base_uri": "https://localhost:8080/"
        },
        "id": "w-HeQv1ANlLN",
        "outputId": "9dff38c9-744d-4147-eba4-05bb806d5645"
      },
      "execution_count": 4,
      "outputs": [
        {
          "output_type": "stream",
          "name": "stdout",
          "text": [
            "   PassengerId  Survived  Pclass  \\\n",
            "0            1         0       3   \n",
            "1            2         1       1   \n",
            "2            3         1       3   \n",
            "3            4         1       1   \n",
            "4            5         0       3   \n",
            "\n",
            "                                                Name     Sex   Age  SibSp  \\\n",
            "0                            Braund, Mr. Owen Harris    male  22.0      1   \n",
            "1  Cumings, Mrs. John Bradley (Florence Briggs Th...  female  38.0      1   \n",
            "2                             Heikkinen, Miss. Laina  female  26.0      0   \n",
            "3       Futrelle, Mrs. Jacques Heath (Lily May Peel)  female  35.0      1   \n",
            "4                           Allen, Mr. William Henry    male  35.0      0   \n",
            "\n",
            "   Parch            Ticket     Fare Cabin Embarked  \n",
            "0      0         A/5 21171   7.2500   NaN        S  \n",
            "1      0          PC 17599  71.2833   C85        C  \n",
            "2      0  STON/O2. 3101282   7.9250   NaN        S  \n",
            "3      0            113803  53.1000  C123        S  \n",
            "4      0            373450   8.0500   NaN        S  \n"
          ]
        }
      ]
    },
    {
      "cell_type": "code",
      "source": [
        "passengerid_percentage = df['PassengerId'].mean() * 100\n",
        "print(\"\\nPercentage of people who passengerid: {:.2f}%\".format(passengerid_percentage))"
      ],
      "metadata": {
        "colab": {
          "base_uri": "https://localhost:8080/"
        },
        "id": "suM-vCcINnkV",
        "outputId": "e9c54c5b-2864-456b-9ab0-6ce59f206db1"
      },
      "execution_count": 7,
      "outputs": [
        {
          "output_type": "stream",
          "name": "stdout",
          "text": [
            "\n",
            "Percentage of people who passengerid: 44600.00%\n"
          ]
        }
      ]
    },
    {
      "cell_type": "code",
      "source": [
        "sex_passengerid_count = df.groupby('Sex')['PassengerId'].sum()\n",
        "print(\"\\nNumber of passengerid by sex:\")\n",
        "print(sex_passengerid_count)"
      ],
      "metadata": {
        "colab": {
          "base_uri": "https://localhost:8080/"
        },
        "id": "ZUUTkhugOL5m",
        "outputId": "181768c4-b3be-4eaa-e5e6-73a0b27e0cc1"
      },
      "execution_count": 8,
      "outputs": [
        {
          "output_type": "stream",
          "name": "stdout",
          "text": [
            "\n",
            "Number of passengerid by sex:\n",
            "Sex\n",
            "female    135343\n",
            "male      262043\n",
            "Name: PassengerId, dtype: int64\n"
          ]
        }
      ]
    },
    {
      "cell_type": "code",
      "source": [
        "cheap_ticket_passengerid_percentage = (df[df['Fare'] < 10]['PassengerId'].mean()) * 100\n",
        "print(\"\\nPercentage of passengers who paid less than $10 and passengerid: {:.2f}%\".format(cheap_ticket_passengerid_percentage))"
      ],
      "metadata": {
        "colab": {
          "base_uri": "https://localhost:8080/"
        },
        "id": "Se_1aCFJOgx1",
        "outputId": "adb41b69-2da8-4ea6-f922-3f1ccf91c5a7"
      },
      "execution_count": 11,
      "outputs": [
        {
          "output_type": "stream",
          "name": "stdout",
          "text": [
            "\n",
            "Percentage of passengers who paid less than $10 and passengerid: 45116.96%\n"
          ]
        }
      ]
    },
    {
      "cell_type": "code",
      "source": [
        "average_age_not_passengerid = df[df['PassengerId'] == 0]['Age'].mean()\n",
        "print(\"\\nAverage age of those who had a passengerId: {:.2f}\".format(average_age_not_passengerid))"
      ],
      "metadata": {
        "colab": {
          "base_uri": "https://localhost:8080/"
        },
        "id": "nV622UCCOp7V",
        "outputId": "442411a1-c448-4ab3-ee63-93bb2bc6f090"
      },
      "execution_count": 12,
      "outputs": [
        {
          "output_type": "stream",
          "name": "stdout",
          "text": [
            "\n",
            "Average age of those who had a passengerId: nan\n"
          ]
        }
      ]
    },
    {
      "cell_type": "code",
      "source": [
        "average_age_passengerid = df[df['PassengerId'] == 1]['Age'].mean()\n",
        "print(\"\\nAverage age of those who did passengerid: {:.2f}\".format(average_age_passengerid))"
      ],
      "metadata": {
        "colab": {
          "base_uri": "https://localhost:8080/"
        },
        "id": "k4eK5IgqO-w5",
        "outputId": "8c78fa20-e5bd-419b-949b-145263250659"
      },
      "execution_count": 13,
      "outputs": [
        {
          "output_type": "stream",
          "name": "stdout",
          "text": [
            "\n",
            "Average age of those who did passengerid: 22.00\n"
          ]
        }
      ]
    },
    {
      "cell_type": "code",
      "source": [
        "average_age_by_passengerid_and_name = df.groupby(['PassengerId', 'Name'])['Age'].mean()\n",
        "print(\"\\nAverage age of those who did and didn't passengerid grouped by name:\")\n",
        "print(average_age_by_passengerid_and_name )"
      ],
      "metadata": {
        "colab": {
          "base_uri": "https://localhost:8080/"
        },
        "id": "W1zpAj16PT07",
        "outputId": "e06e8338-8c51-40d3-d6b1-bcfd0d560032"
      },
      "execution_count": 14,
      "outputs": [
        {
          "output_type": "stream",
          "name": "stdout",
          "text": [
            "\n",
            "Average age of those who did and didn't passengerid grouped by name:\n",
            "PassengerId  Name                                               \n",
            "1            Braund, Mr. Owen Harris                                22.0\n",
            "2            Cumings, Mrs. John Bradley (Florence Briggs Thayer)    38.0\n",
            "3            Heikkinen, Miss. Laina                                 26.0\n",
            "4            Futrelle, Mrs. Jacques Heath (Lily May Peel)           35.0\n",
            "5            Allen, Mr. William Henry                               35.0\n",
            "                                                                    ... \n",
            "887          Montvila, Rev. Juozas                                  27.0\n",
            "888          Graham, Miss. Margaret Edith                           19.0\n",
            "889          Johnston, Miss. Catherine Helen \"Carrie\"                NaN\n",
            "890          Behr, Mr. Karl Howell                                  26.0\n",
            "891          Dooley, Mr. Patrick                                    32.0\n",
            "Name: Age, Length: 891, dtype: float64\n"
          ]
        }
      ]
    }
  ]
}